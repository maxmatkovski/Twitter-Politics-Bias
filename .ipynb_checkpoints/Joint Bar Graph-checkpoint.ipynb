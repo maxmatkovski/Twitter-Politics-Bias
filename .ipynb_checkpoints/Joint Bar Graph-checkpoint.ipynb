{
 "cells": [
  {
   "cell_type": "code",
   "execution_count": null,
   "id": "2f7b9861",
   "metadata": {},
   "outputs": [],
   "source": [
    "republicans = [547, 90, 134, 75, 155]\n",
    "democrats = [572, 82, 129, 75, 143]\n"
   ]
  },
  {
   "cell_type": "code",
   "execution_count": null,
   "id": "add03044",
   "metadata": {},
   "outputs": [],
   "source": []
  }
 ],
 "metadata": {
  "kernelspec": {
   "display_name": "Python 3 (ipykernel)",
   "language": "python",
   "name": "python3"
  },
  "language_info": {
   "codemirror_mode": {
    "name": "ipython",
    "version": 3
   },
   "file_extension": ".py",
   "mimetype": "text/x-python",
   "name": "python",
   "nbconvert_exporter": "python",
   "pygments_lexer": "ipython3",
   "version": "3.8.8"
  }
 },
 "nbformat": 4,
 "nbformat_minor": 5
}
